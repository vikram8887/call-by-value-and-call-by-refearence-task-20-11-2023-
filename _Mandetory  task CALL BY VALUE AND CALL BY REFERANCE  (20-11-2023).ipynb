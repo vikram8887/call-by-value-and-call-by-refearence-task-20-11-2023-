{
 "cells": [
  {
   "cell_type": "markdown",
   "id": "c241c481",
   "metadata": {},
   "source": [
    "# Mandatory task (20-11-2023)"
   ]
  },
  {
   "cell_type": "markdown",
   "id": "efb2bdce",
   "metadata": {},
   "source": [
    "## Call by value:"
   ]
  },
  {
   "cell_type": "markdown",
   "id": "0fc7be25",
   "metadata": {},
   "source": [
    "##### When Immutable objects such as whole numbers, strings, etc are passed as arguments to the function call, the it can be considered as Call by Value.\n",
    "\n",
    "##### Any changes made to the parameter inside the function do not affect the original value outside the function.\n",
    "\n",
    "##### Here the value of parameters will be copied to formal parameters store values in differnt locations."
   ]
  },
  {
   "cell_type": "markdown",
   "id": "0bc76f7e",
   "metadata": {},
   "source": [
    "#### In call by value, a parameter acts within the function as a new local variable initialized to the value of the argument (a local (isolated) copy of the argument)."
   ]
  },
  {
   "cell_type": "markdown",
   "id": "af7ea9f0",
   "metadata": {},
   "source": [
    "* #### Actual parameters - The parameters passed to a function\n",
    "\n",
    "* #### Formal parameters - The parameters received by a function"
   ]
  },
  {
   "cell_type": "code",
   "execution_count": 2,
   "id": "d011f1b5",
   "metadata": {},
   "outputs": [
    {
     "name": "stdout",
     "output_type": "stream",
     "text": [
      "Inside Function: varun\n",
      "Outside Function: vikram\n"
     ]
    }
   ],
   "source": [
    "string = \"vikram\"\n",
    " \n",
    " \n",
    "def test(string):\n",
    "     \n",
    "    string = \"varun\"\n",
    "    print(\"Inside Function:\", string)\n",
    "     \n",
    "test(string)\n",
    "print(\"Outside Function:\", string)"
   ]
  },
  {
   "cell_type": "markdown",
   "id": "0e90c2cb",
   "metadata": {},
   "source": [
    "## Call by reference:"
   ]
  },
  {
   "cell_type": "markdown",
   "id": "7667e8fb",
   "metadata": {},
   "source": [
    "##### Arguments are passed by assignment in Python. The assignment creates references to objects.\n",
    "\n",
    "##### While calling the function we pass values and called as call by values."
   ]
  },
  {
   "cell_type": "markdown",
   "id": "80700add",
   "metadata": {},
   "source": [
    "* ##### in call by reference, the argument variable supplied by the caller can be affected by actions within the called function."
   ]
  },
  {
   "cell_type": "code",
   "execution_count": 3,
   "id": "ccbd0182",
   "metadata": {},
   "outputs": [],
   "source": [
    "x = [10,20,30]\n",
    "def foo():\n",
    "    x.append(4)\n",
    "    print(x)"
   ]
  },
  {
   "cell_type": "code",
   "execution_count": 5,
   "id": "ce2feabe",
   "metadata": {},
   "outputs": [
    {
     "name": "stdout",
     "output_type": "stream",
     "text": [
      "[10, 20, 30, 4, 4]\n"
     ]
    }
   ],
   "source": [
    "foo()"
   ]
  },
  {
   "cell_type": "code",
   "execution_count": 6,
   "id": "99bb37a1",
   "metadata": {},
   "outputs": [
    {
     "data": {
      "text/plain": [
       "[10, 20, 30, 4, 4]"
      ]
     },
     "execution_count": 6,
     "metadata": {},
     "output_type": "execute_result"
    }
   ],
   "source": [
    "x"
   ]
  }
 ],
 "metadata": {
  "kernelspec": {
   "display_name": "Python 3 (ipykernel)",
   "language": "python",
   "name": "python3"
  },
  "language_info": {
   "codemirror_mode": {
    "name": "ipython",
    "version": 3
   },
   "file_extension": ".py",
   "mimetype": "text/x-python",
   "name": "python",
   "nbconvert_exporter": "python",
   "pygments_lexer": "ipython3",
   "version": "3.11.5"
  }
 },
 "nbformat": 4,
 "nbformat_minor": 5
}
